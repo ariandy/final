{
 "cells": [
  {
   "cell_type": "markdown",
   "metadata": {},
   "source": [
    "# Re-optimizing with GridSearchCV"
   ]
  },
  {
   "cell_type": "code",
   "execution_count": 1,
   "metadata": {},
   "outputs": [],
   "source": [
    "import pandas as pd\n",
    "import matplotlib.pyplot as plt \n",
    "from sklearn.model_selection import train_test_split\n",
    "\n",
    "from func import outlier_counter, get_all_univariate_outlier_index, cmx\n",
    "from modelling_purpose import Xy, algorithm_report_accumulation\n",
    "from sklearn.metrics import classification_report, confusion_matrix\n",
    "from sklearn.ensemble import RandomForestClassifier\n",
    "from sklearn.pipeline import Pipeline\n",
    "from sklearn.decomposition import PCA\n",
    "from sklearn.model_selection import GridSearchCV\n",
    "import numpy as np\n",
    "\n",
    "import warnings\n",
    "warnings.filterwarnings('ignore')"
   ]
  },
  {
   "cell_type": "code",
   "execution_count": 2,
   "metadata": {},
   "outputs": [
    {
     "data": {
      "text/plain": [
       "(1029, 31)"
      ]
     },
     "execution_count": 2,
     "metadata": {},
     "output_type": "execute_result"
    }
   ],
   "source": [
    "df = pd.read_csv('csv/imputed.csv')\n",
    "df.shape"
   ]
  },
  {
   "cell_type": "code",
   "execution_count": 3,
   "metadata": {},
   "outputs": [],
   "source": [
    "X = df.drop('Attrition',axis=1)\n",
    "y = df['Attrition'].map({'Yes':1,'No':0})\n",
    "\n",
    "categorical_features = X.select_dtypes(include='O').columns.tolist()\n",
    "X = pd.get_dummies(X, columns=categorical_features, drop_first=True)"
   ]
  },
  {
   "cell_type": "code",
   "execution_count": 4,
   "metadata": {},
   "outputs": [],
   "source": [
    "X_train, X_test, y_train, y_test = train_test_split(X,y,stratify=y,random_state=11111992)"
   ]
  },
  {
   "cell_type": "code",
   "execution_count": 5,
   "metadata": {},
   "outputs": [
    {
     "name": "stdout",
     "output_type": "stream",
     "text": [
      "Fitting 8 folds for each of 8 candidates, totalling 64 fits\n"
     ]
    },
    {
     "name": "stderr",
     "output_type": "stream",
     "text": [
      "[Parallel(n_jobs=-1)]: Using backend LokyBackend with 4 concurrent workers.\n",
      "[Parallel(n_jobs=-1)]: Done  33 tasks      | elapsed:  8.7min\n",
      "[Parallel(n_jobs=-1)]: Done  64 out of  64 | elapsed: 15.6min finished\n"
     ]
    },
    {
     "data": {
      "text/plain": [
       "GridSearchCV(cv=8,\n",
       "             estimator=Pipeline(steps=[('pca', PCA()),\n",
       "                                       ('rfc',\n",
       "                                        RandomForestClassifier(max_depth=30,\n",
       "                                                               min_samples_leaf=200,\n",
       "                                                               min_samples_split=400,\n",
       "                                                               n_estimators=20000,\n",
       "                                                               random_state=11111992))]),\n",
       "             n_jobs=-1,\n",
       "             param_grid={'pca__n_components': [7, 8, 9, 10],\n",
       "                         'rfc__class_weight': [{0: 1, 1: 4.75}, {0: 1, 1: 6}]},\n",
       "             scoring='recall', verbose=2)"
      ]
     },
     "execution_count": 5,
     "metadata": {},
     "output_type": "execute_result"
    }
   ],
   "source": [
    "params = {\n",
    "    'pca__n_components': [7,8,9,10],\n",
    "    'rfc__class_weight': [{0: 1, 1: 4.75}, {0: 1, 1: 6}],\n",
    "}\n",
    "\n",
    "pipeline = Pipeline([\n",
    "    ('pca', PCA()),\n",
    "    ('rfc', RandomForestClassifier(random_state=11111992,\n",
    "                                   n_estimators=20000,\n",
    "                                   max_depth=30,\n",
    "                                   min_samples_split= 400,\n",
    "                                   min_samples_leaf= 200))\n",
    "])\n",
    "\n",
    "grid = GridSearchCV(pipeline, params,\n",
    "                    cv=8, scoring='recall', n_jobs=-1, verbose=2)\n",
    "\n",
    "grid.fit(X_train, y_train)"
   ]
  },
  {
   "cell_type": "code",
   "execution_count": 6,
   "metadata": {},
   "outputs": [
    {
     "data": {
      "text/plain": [
       "{'pca__n_components': 8, 'rfc__class_weight': {0: 1, 1: 6}}"
      ]
     },
     "execution_count": 6,
     "metadata": {},
     "output_type": "execute_result"
    }
   ],
   "source": [
    "grid.best_params_"
   ]
  },
  {
   "cell_type": "code",
   "execution_count": 7,
   "metadata": {},
   "outputs": [
    {
     "name": "stdout",
     "output_type": "stream",
     "text": [
      "              precision    recall  f1-score   support\n",
      "\n",
      "           0       0.89      0.18      0.31       639\n",
      "           1       0.18      0.89      0.30       132\n",
      "\n",
      "    accuracy                           0.30       771\n",
      "   macro avg       0.54      0.54      0.30       771\n",
      "weighted avg       0.77      0.30      0.31       771\n",
      "\n",
      "              precision    recall  f1-score   support\n",
      "\n",
      "           0       0.98      0.21      0.35       214\n",
      "           1       0.20      0.98      0.34        44\n",
      "\n",
      "    accuracy                           0.34       258\n",
      "   macro avg       0.59      0.59      0.34       258\n",
      "weighted avg       0.85      0.34      0.34       258\n",
      "\n"
     ]
    }
   ],
   "source": [
    "y_pred = grid.predict(X_train)\n",
    "print(classification_report(y_train, y_pred))\n",
    "y_pred = grid.predict(X_test)\n",
    "print(classification_report(y_test, y_pred))"
   ]
  },
  {
   "cell_type": "markdown",
   "metadata": {},
   "source": [
    "# Manual Post-Prune"
   ]
  },
  {
   "cell_type": "code",
   "execution_count": 32,
   "metadata": {},
   "outputs": [],
   "source": [
    "import pandas as pd\n",
    "import matplotlib.pyplot as plt \n",
    "from sklearn.model_selection import train_test_split\n",
    "\n",
    "from func import outlier_counter, get_all_univariate_outlier_index, cmx\n",
    "from modelling_purpose import Xy, algorithm_report_accumulation\n",
    "from sklearn.metrics import classification_report, confusion_matrix\n",
    "from sklearn.ensemble import RandomForestClassifier\n",
    "from sklearn.pipeline import Pipeline\n",
    "from sklearn.decomposition import PCA\n",
    "from sklearn.model_selection import GridSearchCV\n",
    "import numpy as np\n",
    "\n",
    "import warnings\n",
    "warnings.filterwarnings('ignore')"
   ]
  },
  {
   "cell_type": "code",
   "execution_count": 33,
   "metadata": {},
   "outputs": [
    {
     "data": {
      "text/plain": [
       "(1029, 31)"
      ]
     },
     "execution_count": 33,
     "metadata": {},
     "output_type": "execute_result"
    }
   ],
   "source": [
    "df = pd.read_csv('csv/imputed.csv')\n",
    "df.shape"
   ]
  },
  {
   "cell_type": "code",
   "execution_count": 34,
   "metadata": {},
   "outputs": [],
   "source": [
    "X = df.drop('Attrition',axis=1)\n",
    "y = df['Attrition'].map({'Yes':1,'No':0})\n",
    "\n",
    "categorical_features = X.select_dtypes(include='O').columns.tolist()\n",
    "X = pd.get_dummies(X, columns=categorical_features, drop_first=True)"
   ]
  },
  {
   "cell_type": "code",
   "execution_count": 35,
   "metadata": {},
   "outputs": [],
   "source": [
    "X_train, X_test, y_train, y_test = train_test_split(X,y,stratify=y,random_state=11111992)"
   ]
  },
  {
   "cell_type": "code",
   "execution_count": 36,
   "metadata": {},
   "outputs": [
    {
     "data": {
      "text/plain": [
       "Pipeline(steps=[('pca', PCA(n_components=10)),\n",
       "                ('rfc',\n",
       "                 RandomForestClassifier(class_weight={0: 1, 1: 6}, max_depth=30,\n",
       "                                        min_samples_leaf=200,\n",
       "                                        min_samples_split=400,\n",
       "                                        n_estimators=4000,\n",
       "                                        random_state=11111992))])"
      ]
     },
     "execution_count": 36,
     "metadata": {},
     "output_type": "execute_result"
    }
   ],
   "source": [
    "pipeline = Pipeline([\n",
    "    ('pca', PCA(10)),\n",
    "    ('rfc', RandomForestClassifier(random_state=11111992,\n",
    "                                     class_weight={0: 1, 1: 6},\n",
    "                                     n_estimators=4000,\n",
    "                                     max_depth=30,\n",
    "                                     min_samples_split= 400,\n",
    "                                     min_samples_leaf= 200))\n",
    "])\n",
    "\n",
    "pipeline.fit(X_train, y_train)"
   ]
  },
  {
   "cell_type": "code",
   "execution_count": 37,
   "metadata": {},
   "outputs": [
    {
     "name": "stdout",
     "output_type": "stream",
     "text": [
      "              precision    recall  f1-score   support\n",
      "\n",
      "           0       0.91      0.28      0.43       639\n",
      "           1       0.20      0.87      0.33       132\n",
      "\n",
      "    accuracy                           0.39       771\n",
      "   macro avg       0.56      0.58      0.38       771\n",
      "weighted avg       0.79      0.39      0.42       771\n",
      "\n",
      "              precision    recall  f1-score   support\n",
      "\n",
      "           0       0.97      0.30      0.46       214\n",
      "           1       0.22      0.95      0.36        44\n",
      "\n",
      "    accuracy                           0.41       258\n",
      "   macro avg       0.60      0.63      0.41       258\n",
      "weighted avg       0.84      0.41      0.44       258\n",
      "\n"
     ]
    }
   ],
   "source": [
    "y_pred = pipeline.predict(X_train)\n",
    "print(classification_report(y_train, y_pred))\n",
    "y_pred = pipeline.predict(X_test)\n",
    "print(classification_report(y_test, y_pred))"
   ]
  },
  {
   "cell_type": "code",
   "execution_count": null,
   "metadata": {},
   "outputs": [],
   "source": []
  }
 ],
 "metadata": {
  "kernelspec": {
   "display_name": "Python 3",
   "language": "python",
   "name": "python3"
  },
  "language_info": {
   "codemirror_mode": {
    "name": "ipython",
    "version": 3
   },
   "file_extension": ".py",
   "mimetype": "text/x-python",
   "name": "python",
   "nbconvert_exporter": "python",
   "pygments_lexer": "ipython3",
   "version": "3.8.3"
  }
 },
 "nbformat": 4,
 "nbformat_minor": 4
}
