{
 "cells": [
  {
   "cell_type": "code",
   "execution_count": 1,
   "metadata": {},
   "outputs": [],
   "source": [
    "import pandas as pd\n",
    "import matplotlib.pyplot as plt \n",
    "from sklearn.model_selection import train_test_split\n",
    "\n",
    "from func import outlier_counter, get_all_univariate_outlier_index, cmx\n",
    "from modelling_purpose import Xy, algorithm_report_accumulation\n",
    "from sklearn.metrics import classification_report, confusion_matrix\n",
    "from sklearn.tree import DecisionTreeClassifier\n",
    "from sklearn.pipeline import Pipeline\n",
    "from sklearn.decomposition import PCA\n",
    "from sklearn.model_selection import GridSearchCV\n",
    "import numpy as np\n",
    "\n",
    "import warnings\n",
    "warnings.filterwarnings('ignore')"
   ]
  },
  {
   "cell_type": "code",
   "execution_count": 2,
   "metadata": {},
   "outputs": [
    {
     "data": {
      "text/plain": [
       "(1029, 31)"
      ]
     },
     "execution_count": 2,
     "metadata": {},
     "output_type": "execute_result"
    }
   ],
   "source": [
    "df = pd.read_csv('csv/imputed.csv')\n",
    "df.shape"
   ]
  },
  {
   "cell_type": "code",
   "execution_count": 3,
   "metadata": {},
   "outputs": [],
   "source": [
    "X = df.drop('Attrition',axis=1)\n",
    "y = df['Attrition'].map({'Yes':1,'No':0})\n",
    "\n",
    "categorical_features = X.select_dtypes(include='O').columns.tolist()\n",
    "ordinal = ['Education', 'EnvironmentSatisfaction', 'JobInvolvement', 'JobLevel',\n",
    "           'JobSatisfaction', 'PerformanceRating', 'RelationshipSatisfaction',\n",
    "           'StockOptionLevel', 'WorkLifeBalance']\n",
    "for i in ordinal:\n",
    "    X[i] = X[i].astype(str)\n",
    "categorical_features += ordinal\n",
    "categorical_features = categorical_features\n",
    "\n",
    "X = pd.get_dummies(X, columns=categorical_features, drop_first=True)"
   ]
  },
  {
   "cell_type": "code",
   "execution_count": 7,
   "metadata": {},
   "outputs": [
    {
     "name": "stdout",
     "output_type": "stream",
     "text": [
      "Fitting 5 folds for each of 439200 candidates, totalling 2196000 fits\n"
     ]
    },
    {
     "name": "stderr",
     "output_type": "stream",
     "text": [
      "[Parallel(n_jobs=-1)]: Using backend LokyBackend with 4 concurrent workers.\n",
      "[Parallel(n_jobs=-1)]: Done  38 tasks      | elapsed:    1.7s\n",
      "[Parallel(n_jobs=-1)]: Done 956 tasks      | elapsed:    7.8s\n",
      "[Parallel(n_jobs=-1)]: Done 2580 tasks      | elapsed:   18.1s\n",
      "[Parallel(n_jobs=-1)]: Done 4844 tasks      | elapsed:   32.4s\n",
      "[Parallel(n_jobs=-1)]: Done 7764 tasks      | elapsed:   49.2s\n",
      "[Parallel(n_jobs=-1)]: Done 11324 tasks      | elapsed:  1.1min\n",
      "[Parallel(n_jobs=-1)]: Done 15540 tasks      | elapsed:  1.5min\n",
      "[Parallel(n_jobs=-1)]: Done 20396 tasks      | elapsed:  1.9min\n",
      "[Parallel(n_jobs=-1)]: Done 25908 tasks      | elapsed:  2.3min\n",
      "[Parallel(n_jobs=-1)]: Done 32060 tasks      | elapsed:  2.9min\n",
      "[Parallel(n_jobs=-1)]: Done 38868 tasks      | elapsed:  3.5min\n",
      "[Parallel(n_jobs=-1)]: Done 46316 tasks      | elapsed:  4.2min\n",
      "[Parallel(n_jobs=-1)]: Done 54420 tasks      | elapsed:  4.8min\n",
      "[Parallel(n_jobs=-1)]: Done 63164 tasks      | elapsed:  5.7min\n",
      "[Parallel(n_jobs=-1)]: Done 72564 tasks      | elapsed:  6.5min\n",
      "[Parallel(n_jobs=-1)]: Done 82604 tasks      | elapsed:  7.3min\n",
      "[Parallel(n_jobs=-1)]: Done 93300 tasks      | elapsed:  8.4min\n",
      "[Parallel(n_jobs=-1)]: Done 104636 tasks      | elapsed:  9.3min\n",
      "[Parallel(n_jobs=-1)]: Done 116628 tasks      | elapsed: 10.4min\n",
      "[Parallel(n_jobs=-1)]: Done 129260 tasks      | elapsed: 11.5min\n",
      "[Parallel(n_jobs=-1)]: Done 142548 tasks      | elapsed: 12.7min\n",
      "[Parallel(n_jobs=-1)]: Done 156476 tasks      | elapsed: 13.9min\n",
      "[Parallel(n_jobs=-1)]: Done 171060 tasks      | elapsed: 15.2min\n",
      "[Parallel(n_jobs=-1)]: Done 186284 tasks      | elapsed: 16.5min\n",
      "[Parallel(n_jobs=-1)]: Done 202164 tasks      | elapsed: 18.0min\n",
      "[Parallel(n_jobs=-1)]: Done 218684 tasks      | elapsed: 19.3min\n",
      "[Parallel(n_jobs=-1)]: Done 235860 tasks      | elapsed: 20.9min\n",
      "[Parallel(n_jobs=-1)]: Done 253676 tasks      | elapsed: 22.5min\n",
      "[Parallel(n_jobs=-1)]: Done 272148 tasks      | elapsed: 24.0min\n",
      "[Parallel(n_jobs=-1)]: Done 291260 tasks      | elapsed: 25.8min\n",
      "[Parallel(n_jobs=-1)]: Done 311028 tasks      | elapsed: 27.6min\n",
      "[Parallel(n_jobs=-1)]: Done 331436 tasks      | elapsed: 29.3min\n",
      "[Parallel(n_jobs=-1)]: Done 352500 tasks      | elapsed: 31.2min\n",
      "[Parallel(n_jobs=-1)]: Done 374204 tasks      | elapsed: 33.2min\n",
      "[Parallel(n_jobs=-1)]: Done 396564 tasks      | elapsed: 35.2min\n",
      "[Parallel(n_jobs=-1)]: Done 419564 tasks      | elapsed: 37.3min\n",
      "[Parallel(n_jobs=-1)]: Done 443220 tasks      | elapsed: 39.7min\n",
      "[Parallel(n_jobs=-1)]: Done 467516 tasks      | elapsed: 41.8min\n",
      "[Parallel(n_jobs=-1)]: Done 492468 tasks      | elapsed: 44.0min\n",
      "[Parallel(n_jobs=-1)]: Done 518060 tasks      | elapsed: 46.3min\n",
      "[Parallel(n_jobs=-1)]: Done 544308 tasks      | elapsed: 48.7min\n",
      "[Parallel(n_jobs=-1)]: Done 571196 tasks      | elapsed: 51.0min\n",
      "[Parallel(n_jobs=-1)]: Done 598740 tasks      | elapsed: 54.2min\n",
      "[Parallel(n_jobs=-1)]: Done 626924 tasks      | elapsed: 58.5min\n",
      "[Parallel(n_jobs=-1)]: Done 655764 tasks      | elapsed: 62.5min\n",
      "[Parallel(n_jobs=-1)]: Done 685244 tasks      | elapsed: 65.2min\n",
      "[Parallel(n_jobs=-1)]: Done 715380 tasks      | elapsed: 68.6min\n",
      "[Parallel(n_jobs=-1)]: Done 746156 tasks      | elapsed: 73.5min\n",
      "[Parallel(n_jobs=-1)]: Done 777588 tasks      | elapsed: 79.6min\n",
      "[Parallel(n_jobs=-1)]: Done 809660 tasks      | elapsed: 83.8min\n",
      "[Parallel(n_jobs=-1)]: Done 842388 tasks      | elapsed: 86.7min\n",
      "[Parallel(n_jobs=-1)]: Done 875756 tasks      | elapsed: 89.6min\n",
      "[Parallel(n_jobs=-1)]: Done 909780 tasks      | elapsed: 92.6min\n",
      "[Parallel(n_jobs=-1)]: Done 944444 tasks      | elapsed: 95.7min\n",
      "[Parallel(n_jobs=-1)]: Done 979764 tasks      | elapsed: 98.8min\n",
      "[Parallel(n_jobs=-1)]: Done 1015724 tasks      | elapsed: 101.9min\n",
      "[Parallel(n_jobs=-1)]: Done 1052340 tasks      | elapsed: 105.2min\n",
      "[Parallel(n_jobs=-1)]: Done 1089596 tasks      | elapsed: 108.4min\n",
      "[Parallel(n_jobs=-1)]: Done 1127508 tasks      | elapsed: 111.7min\n",
      "[Parallel(n_jobs=-1)]: Done 1166060 tasks      | elapsed: 115.1min\n",
      "[Parallel(n_jobs=-1)]: Done 1205268 tasks      | elapsed: 118.5min\n",
      "[Parallel(n_jobs=-1)]: Done 1245116 tasks      | elapsed: 122.1min\n",
      "[Parallel(n_jobs=-1)]: Done 1285620 tasks      | elapsed: 125.6min\n",
      "[Parallel(n_jobs=-1)]: Done 1326764 tasks      | elapsed: 129.3min\n",
      "[Parallel(n_jobs=-1)]: Done 1368564 tasks      | elapsed: 132.8min\n",
      "[Parallel(n_jobs=-1)]: Done 1411004 tasks      | elapsed: 136.6min\n",
      "[Parallel(n_jobs=-1)]: Done 1454100 tasks      | elapsed: 140.3min\n",
      "[Parallel(n_jobs=-1)]: Done 1497836 tasks      | elapsed: 144.2min\n",
      "[Parallel(n_jobs=-1)]: Done 1542228 tasks      | elapsed: 148.1min\n",
      "[Parallel(n_jobs=-1)]: Done 1587260 tasks      | elapsed: 152.0min\n",
      "[Parallel(n_jobs=-1)]: Done 1632948 tasks      | elapsed: 156.1min\n",
      "[Parallel(n_jobs=-1)]: Done 1679276 tasks      | elapsed: 160.2min\n",
      "[Parallel(n_jobs=-1)]: Done 1726260 tasks      | elapsed: 164.2min\n",
      "[Parallel(n_jobs=-1)]: Done 1773884 tasks      | elapsed: 168.4min\n",
      "[Parallel(n_jobs=-1)]: Done 1822164 tasks      | elapsed: 172.7min\n",
      "[Parallel(n_jobs=-1)]: Done 1871084 tasks      | elapsed: 177.0min\n",
      "[Parallel(n_jobs=-1)]: Done 1920660 tasks      | elapsed: 181.2min\n",
      "[Parallel(n_jobs=-1)]: Done 1970876 tasks      | elapsed: 185.7min\n",
      "[Parallel(n_jobs=-1)]: Done 2021748 tasks      | elapsed: 190.2min\n",
      "[Parallel(n_jobs=-1)]: Done 2073260 tasks      | elapsed: 194.7min\n",
      "[Parallel(n_jobs=-1)]: Done 2125428 tasks      | elapsed: 199.3min\n",
      "[Parallel(n_jobs=-1)]: Done 2178236 tasks      | elapsed: 204.0min\n",
      "[Parallel(n_jobs=-1)]: Done 2196000 out of 2196000 | elapsed: 205.4min finished\n"
     ]
    },
    {
     "data": {
      "text/plain": [
       "GridSearchCV(cv=5,\n",
       "             estimator=Pipeline(steps=[('pca', PCA()),\n",
       "                                       ('dtree',\n",
       "                                        DecisionTreeClassifier(random_state=11111992))]),\n",
       "             n_jobs=-1,\n",
       "             param_grid={'dtree__class_weight': [{0: 1, 1: 4.75}, {0: 1, 1: 4},\n",
       "                                                 {0: 1, 1: 5},\n",
       "                                                 {0: 1.2, 1: 4.5}],\n",
       "                         'dtree__criterion': ['gini', 'entropy'],\n",
       "                         'dtree__max_depth': array([ 4.        ,  5.22222222,  6.44444444,  7.66666667,  8.88888889,\n",
       "       10.11111111, 11.33333333, 12.55555556, 13.77777778, 15.        ]),\n",
       "                         'dtree__max_features': [1, 2, 3, 4, 5, 6, 7, 8, 9, 10,\n",
       "                                                 11, 12, 13, 14, 15, 16, 17, 18,\n",
       "                                                 19, 20, 21, 22, 23, 24, 25, 26,\n",
       "                                                 27, 28, 29, 30, ...],\n",
       "                         'dtree__min_samples_leaf': [100, 150, 200],\n",
       "                         'dtree__min_samples_split': [200, 300, 400],\n",
       "                         'dtree__splitter': ['best', 'random'],\n",
       "                         'pca__n_components': [10, 13, 15, 17, 20]},\n",
       "             scoring='recall', verbose=2)"
      ]
     },
     "execution_count": 7,
     "metadata": {},
     "output_type": "execute_result"
    }
   ],
   "source": [
    "X_train, X_test, y_train, y_test = train_test_split(X,y,stratify=y,random_state=11111992)\n",
    "\n",
    "params = {\n",
    "    'pca__n_components': [10,13,15,17,20],\n",
    "    'dtree__criterion': ['gini', 'entropy'],\n",
    "    'dtree__splitter' : ['best', 'random'],\n",
    "    'dtree__max_features' : list(range(1,X_train.shape[1])),\n",
    "    'dtree__class_weight': [\n",
    "        {0: 1, 1: 4.75},\n",
    "        {0: 1, 1: 4},\n",
    "        {0: 1, 1: 5},\n",
    "        {0: 1.2, 1: 4.5},\n",
    "    ],\n",
    "    'dtree__max_depth' : np.linspace(4, 15, 10),\n",
    "    'dtree__min_samples_split' : [200,300,400],\n",
    "    'dtree__min_samples_leaf' : [100,150,200],\n",
    "}\n",
    "\n",
    "model_pipeline = Pipeline([\n",
    "    ('pca', PCA()),\n",
    "    ('dtree', DecisionTreeClassifier(random_state=11111992))\n",
    "])\n",
    "\n",
    "grid = GridSearchCV(model_pipeline, params,\n",
    "                    cv=5, scoring='recall', n_jobs=-1, verbose=2)\n",
    "\n",
    "grid.fit(X_train, y_train)"
   ]
  },
  {
   "cell_type": "code",
   "execution_count": 8,
   "metadata": {},
   "outputs": [
    {
     "data": {
      "text/plain": [
       "Pipeline(steps=[('pca', PCA(n_components=10)),\n",
       "                ('dtree',\n",
       "                 DecisionTreeClassifier(class_weight={0: 1, 1: 5},\n",
       "                                        max_depth=4.0, max_features=1,\n",
       "                                        min_samples_leaf=150,\n",
       "                                        min_samples_split=200,\n",
       "                                        random_state=11111992,\n",
       "                                        splitter='random'))])"
      ]
     },
     "execution_count": 8,
     "metadata": {},
     "output_type": "execute_result"
    }
   ],
   "source": [
    "grid.best_estimator_"
   ]
  },
  {
   "cell_type": "code",
   "execution_count": 9,
   "metadata": {},
   "outputs": [
    {
     "data": {
      "text/plain": [
       "{'dtree__class_weight': {0: 1, 1: 5},\n",
       " 'dtree__criterion': 'gini',\n",
       " 'dtree__max_depth': 4.0,\n",
       " 'dtree__max_features': 1,\n",
       " 'dtree__min_samples_leaf': 150,\n",
       " 'dtree__min_samples_split': 200,\n",
       " 'dtree__splitter': 'random',\n",
       " 'pca__n_components': 10}"
      ]
     },
     "execution_count": 9,
     "metadata": {},
     "output_type": "execute_result"
    }
   ],
   "source": [
    "grid.best_params_"
   ]
  },
  {
   "cell_type": "code",
   "execution_count": 10,
   "metadata": {},
   "outputs": [
    {
     "data": {
      "text/plain": [
       "1.0"
      ]
     },
     "execution_count": 10,
     "metadata": {},
     "output_type": "execute_result"
    }
   ],
   "source": [
    "grid.best_score_"
   ]
  },
  {
   "cell_type": "code",
   "execution_count": 11,
   "metadata": {},
   "outputs": [
    {
     "name": "stdout",
     "output_type": "stream",
     "text": [
      "              precision    recall  f1-score   support\n",
      "\n",
      "           0       0.89      0.23      0.37       639\n",
      "           1       0.19      0.86      0.31       132\n",
      "\n",
      "    accuracy                           0.34       771\n",
      "   macro avg       0.54      0.54      0.34       771\n",
      "weighted avg       0.77      0.34      0.36       771\n",
      "\n",
      "              precision    recall  f1-score   support\n",
      "\n",
      "           0       0.97      0.28      0.43       214\n",
      "           1       0.21      0.95      0.35        44\n",
      "\n",
      "    accuracy                           0.39       258\n",
      "   macro avg       0.59      0.62      0.39       258\n",
      "weighted avg       0.84      0.39      0.42       258\n",
      "\n"
     ]
    }
   ],
   "source": [
    "y_pred = grid.predict(X_train)\n",
    "print(classification_report(y_train, y_pred))\n",
    "y_pred = grid.predict(X_test)\n",
    "print(classification_report(y_test, y_pred))"
   ]
  },
  {
   "cell_type": "code",
   "execution_count": 12,
   "metadata": {},
   "outputs": [
    {
     "data": {
      "text/plain": [
       "0.9545454545454546"
      ]
     },
     "execution_count": 12,
     "metadata": {},
     "output_type": "execute_result"
    }
   ],
   "source": [
    "grid.score(X_test, y_test)"
   ]
  },
  {
   "cell_type": "code",
   "execution_count": 13,
   "metadata": {},
   "outputs": [
    {
     "data": {
      "text/plain": [
       "219635"
      ]
     },
     "execution_count": 13,
     "metadata": {},
     "output_type": "execute_result"
    }
   ],
   "source": [
    "grid.best_index_"
   ]
  },
  {
   "cell_type": "code",
   "execution_count": 14,
   "metadata": {},
   "outputs": [
    {
     "data": {
      "text/plain": [
       "mean_fit_time                                                             0.0133719\n",
       "std_fit_time                                                             0.00133916\n",
       "mean_score_time                                                          0.00570903\n",
       "std_score_time                                                          0.000142563\n",
       "param_dtree__class_weight                                              {0: 1, 1: 5}\n",
       "param_dtree__criterion                                                         gini\n",
       "param_dtree__max_depth                                                            4\n",
       "param_dtree__max_features                                                         1\n",
       "param_dtree__min_samples_leaf                                                   150\n",
       "param_dtree__min_samples_split                                                  200\n",
       "param_dtree__splitter                                                        random\n",
       "param_pca__n_components                                                          10\n",
       "params                            {'dtree__class_weight': {0: 1, 1: 5}, 'dtree__...\n",
       "split0_test_score                                                                 1\n",
       "split1_test_score                                                                 1\n",
       "split2_test_score                                                                 1\n",
       "split3_test_score                                                                 1\n",
       "split4_test_score                                                                 1\n",
       "mean_test_score                                                                   1\n",
       "std_test_score                                                                    0\n",
       "rank_test_score                                                                   1\n",
       "Name: 219635, dtype: object"
      ]
     },
     "execution_count": 14,
     "metadata": {},
     "output_type": "execute_result"
    }
   ],
   "source": [
    "pd.DataFrame(grid.cv_results_).loc[grid.best_index_]"
   ]
  },
  {
   "cell_type": "code",
   "execution_count": 15,
   "metadata": {},
   "outputs": [
    {
     "data": {
      "text/plain": [
       "make_scorer(recall_score, average=binary)"
      ]
     },
     "execution_count": 15,
     "metadata": {},
     "output_type": "execute_result"
    }
   ],
   "source": [
    "grid.scorer_"
   ]
  },
  {
   "cell_type": "code",
   "execution_count": 16,
   "metadata": {},
   "outputs": [
    {
     "data": {
      "text/plain": [
       "5"
      ]
     },
     "execution_count": 16,
     "metadata": {},
     "output_type": "execute_result"
    }
   ],
   "source": [
    "grid.n_splits_"
   ]
  },
  {
   "cell_type": "code",
   "execution_count": 17,
   "metadata": {},
   "outputs": [
    {
     "data": {
      "text/plain": [
       "0.0334014892578125"
      ]
     },
     "execution_count": 17,
     "metadata": {},
     "output_type": "execute_result"
    }
   ],
   "source": [
    "grid.refit_time_"
   ]
  },
  {
   "cell_type": "code",
   "execution_count": 18,
   "metadata": {},
   "outputs": [
    {
     "data": {
      "text/html": [
       "<div>\n",
       "<style scoped>\n",
       "    .dataframe tbody tr th:only-of-type {\n",
       "        vertical-align: middle;\n",
       "    }\n",
       "\n",
       "    .dataframe tbody tr th {\n",
       "        vertical-align: top;\n",
       "    }\n",
       "\n",
       "    .dataframe thead th {\n",
       "        text-align: right;\n",
       "    }\n",
       "</style>\n",
       "<table border=\"1\" class=\"dataframe\">\n",
       "  <thead>\n",
       "    <tr style=\"text-align: right;\">\n",
       "      <th></th>\n",
       "      <th>Pred 1</th>\n",
       "      <th>Pred 0</th>\n",
       "    </tr>\n",
       "  </thead>\n",
       "  <tbody>\n",
       "    <tr>\n",
       "      <th>Act1</th>\n",
       "      <td>113</td>\n",
       "      <td>19</td>\n",
       "    </tr>\n",
       "    <tr>\n",
       "      <th>Act 0</th>\n",
       "      <td>492</td>\n",
       "      <td>147</td>\n",
       "    </tr>\n",
       "  </tbody>\n",
       "</table>\n",
       "</div>"
      ],
      "text/plain": [
       "       Pred 1  Pred 0\n",
       "Act1      113      19\n",
       "Act 0     492     147"
      ]
     },
     "execution_count": 18,
     "metadata": {},
     "output_type": "execute_result"
    }
   ],
   "source": [
    "y_pred = grid.predict(X_train)\n",
    "cmx(y_train,y_pred)"
   ]
  },
  {
   "cell_type": "code",
   "execution_count": 19,
   "metadata": {},
   "outputs": [
    {
     "data": {
      "text/html": [
       "<div>\n",
       "<style scoped>\n",
       "    .dataframe tbody tr th:only-of-type {\n",
       "        vertical-align: middle;\n",
       "    }\n",
       "\n",
       "    .dataframe tbody tr th {\n",
       "        vertical-align: top;\n",
       "    }\n",
       "\n",
       "    .dataframe thead th {\n",
       "        text-align: right;\n",
       "    }\n",
       "</style>\n",
       "<table border=\"1\" class=\"dataframe\">\n",
       "  <thead>\n",
       "    <tr style=\"text-align: right;\">\n",
       "      <th></th>\n",
       "      <th>Pred 1</th>\n",
       "      <th>Pred 0</th>\n",
       "    </tr>\n",
       "  </thead>\n",
       "  <tbody>\n",
       "    <tr>\n",
       "      <th>Act1</th>\n",
       "      <td>42</td>\n",
       "      <td>2</td>\n",
       "    </tr>\n",
       "    <tr>\n",
       "      <th>Act 0</th>\n",
       "      <td>155</td>\n",
       "      <td>59</td>\n",
       "    </tr>\n",
       "  </tbody>\n",
       "</table>\n",
       "</div>"
      ],
      "text/plain": [
       "       Pred 1  Pred 0\n",
       "Act1       42       2\n",
       "Act 0     155      59"
      ]
     },
     "execution_count": 19,
     "metadata": {},
     "output_type": "execute_result"
    }
   ],
   "source": [
    "y_pred = grid.predict(X_test)\n",
    "cmx(y_test, y_pred)"
   ]
  },
  {
   "cell_type": "code",
   "execution_count": null,
   "metadata": {},
   "outputs": [],
   "source": []
  }
 ],
 "metadata": {
  "kernelspec": {
   "display_name": "Python 3",
   "language": "python",
   "name": "python3"
  },
  "language_info": {
   "codemirror_mode": {
    "name": "ipython",
    "version": 3
   },
   "file_extension": ".py",
   "mimetype": "text/x-python",
   "name": "python",
   "nbconvert_exporter": "python",
   "pygments_lexer": "ipython3",
   "version": "3.8.3"
  }
 },
 "nbformat": 4,
 "nbformat_minor": 4
}
