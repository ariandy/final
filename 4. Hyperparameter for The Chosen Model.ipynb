{
 "cells": [
  {
   "cell_type": "code",
   "execution_count": 8,
   "metadata": {},
   "outputs": [],
   "source": [
    "import pandas as pd\n",
    "from sklearn.model_selection import train_test_split\n",
    "\n",
    "from func import outlier_counter, get_all_univariate_outlier_index\n",
    "from modelling_purpose import Xy, algorithm_report_accumulation\n",
    "from sklearn.metrics import classification_report\n",
    "\n",
    "from sklearn.tree import DecisionTreeClassifier\n",
    "from sklearn.pipeline import Pipeline\n",
    "from sklearn.decomposition import PCA\n",
    "from sklearn.model_selection import GridSearchCV\n",
    "import numpy as np\n",
    "\n",
    "import warnings\n",
    "warnings.filterwarnings('ignore')"
   ]
  },
  {
   "cell_type": "code",
   "execution_count": 2,
   "metadata": {},
   "outputs": [],
   "source": [
    "df = pd.read_csv('csv/imputed.csv')"
   ]
  },
  {
   "cell_type": "code",
   "execution_count": 3,
   "metadata": {},
   "outputs": [
    {
     "name": "stdout",
     "output_type": "stream",
     "text": [
      "Fitting 5 folds for each of 219600 candidates, totalling 1098000 fits\n"
     ]
    },
    {
     "name": "stderr",
     "output_type": "stream",
     "text": [
      "[Parallel(n_jobs=-1)]: Using backend LokyBackend with 4 concurrent workers.\n",
      "[Parallel(n_jobs=-1)]: Done  38 tasks      | elapsed:    2.2s\n",
      "[Parallel(n_jobs=-1)]: Done 956 tasks      | elapsed:    9.0s\n",
      "[Parallel(n_jobs=-1)]: Done 2580 tasks      | elapsed:   21.3s\n",
      "[Parallel(n_jobs=-1)]: Done 4844 tasks      | elapsed:   38.4s\n",
      "[Parallel(n_jobs=-1)]: Done 7764 tasks      | elapsed:   58.1s\n",
      "[Parallel(n_jobs=-1)]: Done 11324 tasks      | elapsed:  1.3min\n",
      "[Parallel(n_jobs=-1)]: Done 15540 tasks      | elapsed:  1.7min\n",
      "[Parallel(n_jobs=-1)]: Done 20396 tasks      | elapsed:  2.2min\n",
      "[Parallel(n_jobs=-1)]: Done 25908 tasks      | elapsed:  2.7min\n",
      "[Parallel(n_jobs=-1)]: Done 32060 tasks      | elapsed:  3.4min\n",
      "[Parallel(n_jobs=-1)]: Done 38868 tasks      | elapsed:  4.1min\n",
      "[Parallel(n_jobs=-1)]: Done 46316 tasks      | elapsed:  4.9min\n",
      "[Parallel(n_jobs=-1)]: Done 54420 tasks      | elapsed:  5.6min\n",
      "[Parallel(n_jobs=-1)]: Done 63164 tasks      | elapsed:  6.7min\n",
      "[Parallel(n_jobs=-1)]: Done 72564 tasks      | elapsed:  7.6min\n",
      "[Parallel(n_jobs=-1)]: Done 82604 tasks      | elapsed:  8.5min\n",
      "[Parallel(n_jobs=-1)]: Done 93300 tasks      | elapsed:  9.7min\n",
      "[Parallel(n_jobs=-1)]: Done 104636 tasks      | elapsed: 10.8min\n",
      "[Parallel(n_jobs=-1)]: Done 116628 tasks      | elapsed: 12.1min\n",
      "[Parallel(n_jobs=-1)]: Done 129260 tasks      | elapsed: 13.3min\n",
      "[Parallel(n_jobs=-1)]: Done 142548 tasks      | elapsed: 14.8min\n",
      "[Parallel(n_jobs=-1)]: Done 156476 tasks      | elapsed: 16.1min\n",
      "[Parallel(n_jobs=-1)]: Done 171060 tasks      | elapsed: 17.8min\n",
      "[Parallel(n_jobs=-1)]: Done 186284 tasks      | elapsed: 19.3min\n",
      "[Parallel(n_jobs=-1)]: Done 202164 tasks      | elapsed: 21.2min\n",
      "[Parallel(n_jobs=-1)]: Done 218684 tasks      | elapsed: 22.8min\n",
      "[Parallel(n_jobs=-1)]: Done 235860 tasks      | elapsed: 24.7min\n",
      "[Parallel(n_jobs=-1)]: Done 253676 tasks      | elapsed: 26.6min\n",
      "[Parallel(n_jobs=-1)]: Done 272148 tasks      | elapsed: 28.4min\n",
      "[Parallel(n_jobs=-1)]: Done 291260 tasks      | elapsed: 30.4min\n",
      "[Parallel(n_jobs=-1)]: Done 311028 tasks      | elapsed: 32.5min\n",
      "[Parallel(n_jobs=-1)]: Done 331436 tasks      | elapsed: 34.5min\n",
      "[Parallel(n_jobs=-1)]: Done 352500 tasks      | elapsed: 36.6min\n",
      "[Parallel(n_jobs=-1)]: Done 374204 tasks      | elapsed: 38.8min\n",
      "[Parallel(n_jobs=-1)]: Done 396564 tasks      | elapsed: 41.2min\n",
      "[Parallel(n_jobs=-1)]: Done 419564 tasks      | elapsed: 43.7min\n",
      "[Parallel(n_jobs=-1)]: Done 443220 tasks      | elapsed: 46.5min\n",
      "[Parallel(n_jobs=-1)]: Done 467516 tasks      | elapsed: 49.0min\n",
      "[Parallel(n_jobs=-1)]: Done 492468 tasks      | elapsed: 51.6min\n",
      "[Parallel(n_jobs=-1)]: Done 518060 tasks      | elapsed: 54.2min\n",
      "[Parallel(n_jobs=-1)]: Done 544308 tasks      | elapsed: 56.9min\n",
      "[Parallel(n_jobs=-1)]: Done 571196 tasks      | elapsed: 59.7min\n",
      "[Parallel(n_jobs=-1)]: Done 598740 tasks      | elapsed: 62.5min\n",
      "[Parallel(n_jobs=-1)]: Done 626924 tasks      | elapsed: 65.4min\n",
      "[Parallel(n_jobs=-1)]: Done 655764 tasks      | elapsed: 68.3min\n",
      "[Parallel(n_jobs=-1)]: Done 685244 tasks      | elapsed: 71.3min\n",
      "[Parallel(n_jobs=-1)]: Done 715380 tasks      | elapsed: 74.4min\n",
      "[Parallel(n_jobs=-1)]: Done 742564 tasks      | elapsed: 78.3min\n",
      "[Parallel(n_jobs=-1)]: Done 773996 tasks      | elapsed: 81.6min\n",
      "[Parallel(n_jobs=-1)]: Done 806068 tasks      | elapsed: 85.0min\n",
      "[Parallel(n_jobs=-1)]: Done 838796 tasks      | elapsed: 88.4min\n",
      "[Parallel(n_jobs=-1)]: Done 872164 tasks      | elapsed: 91.9min\n",
      "[Parallel(n_jobs=-1)]: Done 906188 tasks      | elapsed: 95.4min\n",
      "[Parallel(n_jobs=-1)]: Done 940852 tasks      | elapsed: 99.2min\n",
      "[Parallel(n_jobs=-1)]: Done 976172 tasks      | elapsed: 102.9min\n",
      "[Parallel(n_jobs=-1)]: Done 1012132 tasks      | elapsed: 106.5min\n",
      "[Parallel(n_jobs=-1)]: Done 1048748 tasks      | elapsed: 110.4min\n",
      "[Parallel(n_jobs=-1)]: Done 1086004 tasks      | elapsed: 114.3min\n",
      "[Parallel(n_jobs=-1)]: Done 1098000 out of 1098000 | elapsed: 117.1min finished\n"
     ]
    },
    {
     "data": {
      "text/plain": [
       "GridSearchCV(cv=5,\n",
       "             estimator=Pipeline(steps=[('pca', PCA()),\n",
       "                                       ('dtree',\n",
       "                                        DecisionTreeClassifier(random_state=11111992))]),\n",
       "             n_jobs=-1,\n",
       "             param_grid={'dtree__class_weight': [{0: 1, 1: 4.75}, {0: 1, 1: 4},\n",
       "                                                 {0: 1, 1: 5},\n",
       "                                                 {0: 1.2, 1: 4.5}],\n",
       "                         'dtree__max_depth': array([ 4.        ,  5.22222222,  6.44444444,  7.66666667,  8.88888889,\n",
       "       10.11111111, 11.33333333, 12.55555556, 13.77777778, 15.        ]),\n",
       "                         'dtree__max_features': [1, 2, 3, 4, 5, 6, 7, 8, 9, 10,\n",
       "                                                 11, 12, 13, 14, 15, 16, 17, 18,\n",
       "                                                 19, 20, 21, 22, 23, 24, 25, 26,\n",
       "                                                 27, 28, 29, 30, ...],\n",
       "                         'dtree__min_samples_leaf': [100, 150, 200],\n",
       "                         'dtree__min_samples_split': [200, 300, 400],\n",
       "                         'dtree__splitter': ['best', 'random'],\n",
       "                         'pca__n_components': [10, 13, 15, 17, 20]},\n",
       "             scoring='recall', verbose=2)"
      ]
     },
     "execution_count": 3,
     "metadata": {},
     "output_type": "execute_result"
    }
   ],
   "source": [
    "X, y = Xy(df)\n",
    "X_train, X_test, y_train, y_test = train_test_split(X,y,stratify=y,random_state=11111992)\n",
    "\n",
    "params = {\n",
    "    'pca__n_components': [10,13,15,17,20],\n",
    "    'dtree__splitter' : ['best', 'random'],\n",
    "    'dtree__max_features' : list(range(1,X_train.shape[1])),\n",
    "    'dtree__class_weight': [\n",
    "        {0: 1, 1: 4.75},\n",
    "        {0: 1, 1: 4},\n",
    "        {0: 1, 1: 5},\n",
    "        {0: 1.2, 1: 4.5},\n",
    "    ],\n",
    "    'dtree__max_depth' : np.linspace(4, 15, 10),\n",
    "    'dtree__min_samples_split' : [200,300,400],\n",
    "    'dtree__min_samples_leaf' : [100,150,200],\n",
    "}\n",
    "\n",
    "model_pipeline = Pipeline([\n",
    "    ('pca', PCA()),\n",
    "    ('dtree', DecisionTreeClassifier(random_state=11111992))\n",
    "])\n",
    "\n",
    "grid = GridSearchCV(model_pipeline, params,\n",
    "                    cv=5, scoring='recall', n_jobs=-1, verbose=2)\n",
    "\n",
    "grid.fit(X_train, y_train)"
   ]
  },
  {
   "cell_type": "code",
   "execution_count": 4,
   "metadata": {},
   "outputs": [
    {
     "data": {
      "text/plain": [
       "Pipeline(steps=[('pca', PCA(n_components=10)),\n",
       "                ('dtree',\n",
       "                 DecisionTreeClassifier(class_weight={0: 1, 1: 5},\n",
       "                                        max_depth=4.0, max_features=1,\n",
       "                                        min_samples_leaf=150,\n",
       "                                        min_samples_split=200,\n",
       "                                        random_state=11111992,\n",
       "                                        splitter='random'))])"
      ]
     },
     "execution_count": 4,
     "metadata": {},
     "output_type": "execute_result"
    }
   ],
   "source": [
    "grid.best_estimator_"
   ]
  },
  {
   "cell_type": "code",
   "execution_count": 6,
   "metadata": {},
   "outputs": [
    {
     "data": {
      "text/plain": [
       "{'dtree__class_weight': {0: 1, 1: 5},\n",
       " 'dtree__max_depth': 4.0,\n",
       " 'dtree__max_features': 1,\n",
       " 'dtree__min_samples_leaf': 150,\n",
       " 'dtree__min_samples_split': 200,\n",
       " 'dtree__splitter': 'random',\n",
       " 'pca__n_components': 10}"
      ]
     },
     "execution_count": 6,
     "metadata": {},
     "output_type": "execute_result"
    }
   ],
   "source": [
    "grid.best_params_"
   ]
  },
  {
   "cell_type": "code",
   "execution_count": 10,
   "metadata": {},
   "outputs": [
    {
     "data": {
      "text/plain": [
       "1.0"
      ]
     },
     "execution_count": 10,
     "metadata": {},
     "output_type": "execute_result"
    }
   ],
   "source": [
    "grid.best_score_"
   ]
  },
  {
   "cell_type": "code",
   "execution_count": 9,
   "metadata": {},
   "outputs": [
    {
     "name": "stdout",
     "output_type": "stream",
     "text": [
      "              precision    recall  f1-score   support\n",
      "\n",
      "           0       0.89      0.23      0.37       639\n",
      "           1       0.19      0.86      0.31       132\n",
      "\n",
      "    accuracy                           0.34       771\n",
      "   macro avg       0.54      0.54      0.34       771\n",
      "weighted avg       0.77      0.34      0.36       771\n",
      "\n",
      "              precision    recall  f1-score   support\n",
      "\n",
      "           0       0.97      0.28      0.43       214\n",
      "           1       0.21      0.95      0.35        44\n",
      "\n",
      "    accuracy                           0.39       258\n",
      "   macro avg       0.59      0.62      0.39       258\n",
      "weighted avg       0.84      0.39      0.42       258\n",
      "\n"
     ]
    }
   ],
   "source": [
    "y_pred = grid.predict(X_train)\n",
    "print(classification_report(y_train, y_pred))\n",
    "y_pred = grid.predict(X_test)\n",
    "print(classification_report(y_test, y_pred))"
   ]
  },
  {
   "cell_type": "code",
   "execution_count": 11,
   "metadata": {},
   "outputs": [
    {
     "data": {
      "text/plain": [
       "0.9545454545454546"
      ]
     },
     "execution_count": 11,
     "metadata": {},
     "output_type": "execute_result"
    }
   ],
   "source": [
    "grid.score(X_test, y_test)"
   ]
  },
  {
   "cell_type": "code",
   "execution_count": 12,
   "metadata": {},
   "outputs": [
    {
     "data": {
      "text/plain": [
       "109835"
      ]
     },
     "execution_count": 12,
     "metadata": {},
     "output_type": "execute_result"
    }
   ],
   "source": [
    "grid.best_index_"
   ]
  },
  {
   "cell_type": "code",
   "execution_count": 15,
   "metadata": {},
   "outputs": [
    {
     "data": {
      "text/plain": [
       "mean_fit_time                                                             0.0152358\n",
       "std_fit_time                                                             0.00138951\n",
       "mean_score_time                                                          0.00694056\n",
       "std_score_time                                                          0.000774687\n",
       "param_dtree__class_weight                                              {0: 1, 1: 5}\n",
       "param_dtree__max_depth                                                            4\n",
       "param_dtree__max_features                                                         1\n",
       "param_dtree__min_samples_leaf                                                   150\n",
       "param_dtree__min_samples_split                                                  200\n",
       "param_dtree__splitter                                                        random\n",
       "param_pca__n_components                                                          10\n",
       "params                            {'dtree__class_weight': {0: 1, 1: 5}, 'dtree__...\n",
       "split0_test_score                                                                 1\n",
       "split1_test_score                                                                 1\n",
       "split2_test_score                                                                 1\n",
       "split3_test_score                                                                 1\n",
       "split4_test_score                                                                 1\n",
       "mean_test_score                                                                   1\n",
       "std_test_score                                                                    0\n",
       "rank_test_score                                                                   1\n",
       "Name: 109835, dtype: object"
      ]
     },
     "execution_count": 15,
     "metadata": {},
     "output_type": "execute_result"
    }
   ],
   "source": [
    "pd.DataFrame(grid.cv_results_).loc[grid.best_index_]"
   ]
  },
  {
   "cell_type": "code",
   "execution_count": 16,
   "metadata": {},
   "outputs": [
    {
     "data": {
      "text/plain": [
       "make_scorer(recall_score, average=binary)"
      ]
     },
     "execution_count": 16,
     "metadata": {},
     "output_type": "execute_result"
    }
   ],
   "source": [
    "grid.scorer_"
   ]
  },
  {
   "cell_type": "code",
   "execution_count": 17,
   "metadata": {},
   "outputs": [
    {
     "data": {
      "text/plain": [
       "5"
      ]
     },
     "execution_count": 17,
     "metadata": {},
     "output_type": "execute_result"
    }
   ],
   "source": [
    "grid.n_splits_"
   ]
  },
  {
   "cell_type": "code",
   "execution_count": 18,
   "metadata": {},
   "outputs": [
    {
     "data": {
      "text/plain": [
       "0.08811306953430176"
      ]
     },
     "execution_count": 18,
     "metadata": {},
     "output_type": "execute_result"
    }
   ],
   "source": [
    "grid.refit_time_"
   ]
  },
  {
   "cell_type": "code",
   "execution_count": null,
   "metadata": {},
   "outputs": [],
   "source": []
  }
 ],
 "metadata": {
  "kernelspec": {
   "display_name": "Python 3",
   "language": "python",
   "name": "python3"
  },
  "language_info": {
   "codemirror_mode": {
    "name": "ipython",
    "version": 3
   },
   "file_extension": ".py",
   "mimetype": "text/x-python",
   "name": "python",
   "nbconvert_exporter": "python",
   "pygments_lexer": "ipython3",
   "version": "3.8.3"
  }
 },
 "nbformat": 4,
 "nbformat_minor": 4
}
