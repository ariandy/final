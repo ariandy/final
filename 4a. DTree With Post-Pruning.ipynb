{
 "cells": [
  {
   "cell_type": "markdown",
   "metadata": {},
   "source": [
    "# Re-optimizing with increasing the Folds"
   ]
  },
  {
   "cell_type": "code",
   "execution_count": 1,
   "metadata": {},
   "outputs": [],
   "source": [
    "import pandas as pd\n",
    "import matplotlib.pyplot as plt \n",
    "from sklearn.model_selection import train_test_split\n",
    "\n",
    "from func import outlier_counter, get_all_univariate_outlier_index, cmx\n",
    "from modelling_purpose import Xy, algorithm_report_accumulation\n",
    "from sklearn.metrics import classification_report, confusion_matrix\n",
    "from sklearn.tree import DecisionTreeClassifier\n",
    "from sklearn.pipeline import Pipeline\n",
    "from sklearn.decomposition import PCA\n",
    "from sklearn.model_selection import GridSearchCV\n",
    "import numpy as np\n",
    "\n",
    "import warnings\n",
    "warnings.filterwarnings('ignore')"
   ]
  },
  {
   "cell_type": "code",
   "execution_count": 2,
   "metadata": {},
   "outputs": [
    {
     "data": {
      "text/plain": [
       "(1029, 31)"
      ]
     },
     "execution_count": 2,
     "metadata": {},
     "output_type": "execute_result"
    }
   ],
   "source": [
    "df = pd.read_csv('csv/imputed.csv')\n",
    "df.shape"
   ]
  },
  {
   "cell_type": "code",
   "execution_count": 3,
   "metadata": {},
   "outputs": [],
   "source": [
    "X = df.drop('Attrition',axis=1)\n",
    "y = df['Attrition'].map({'Yes':1,'No':0})\n",
    "\n",
    "categorical_features = X.select_dtypes(include='O').columns.tolist()\n",
    "X = pd.get_dummies(X, columns=categorical_features, drop_first=True)"
   ]
  },
  {
   "cell_type": "code",
   "execution_count": 4,
   "metadata": {},
   "outputs": [
    {
     "name": "stdout",
     "output_type": "stream",
     "text": [
      "Fitting 8 folds for each of 340560 candidates, totalling 2724480 fits\n"
     ]
    },
    {
     "name": "stderr",
     "output_type": "stream",
     "text": [
      "[Parallel(n_jobs=-1)]: Using backend LokyBackend with 4 concurrent workers.\n",
      "[Parallel(n_jobs=-1)]: Done  38 tasks      | elapsed:    1.9s\n",
      "[Parallel(n_jobs=-1)]: Done 604 tasks      | elapsed:    5.9s\n",
      "[Parallel(n_jobs=-1)]: Done 2228 tasks      | elapsed:   17.0s\n",
      "[Parallel(n_jobs=-1)]: Done 4492 tasks      | elapsed:   34.9s\n",
      "[Parallel(n_jobs=-1)]: Done 7412 tasks      | elapsed:   58.0s\n",
      "[Parallel(n_jobs=-1)]: Done 10972 tasks      | elapsed:  1.3min\n",
      "[Parallel(n_jobs=-1)]: Done 15188 tasks      | elapsed:  1.8min\n",
      "[Parallel(n_jobs=-1)]: Done 20044 tasks      | elapsed:  2.3min\n",
      "[Parallel(n_jobs=-1)]: Done 25556 tasks      | elapsed:  2.7min\n",
      "[Parallel(n_jobs=-1)]: Done 31708 tasks      | elapsed:  3.3min\n",
      "[Parallel(n_jobs=-1)]: Done 38516 tasks      | elapsed:  4.0min\n",
      "[Parallel(n_jobs=-1)]: Done 45964 tasks      | elapsed:  4.7min\n",
      "[Parallel(n_jobs=-1)]: Done 54068 tasks      | elapsed:  5.4min\n",
      "[Parallel(n_jobs=-1)]: Done 62812 tasks      | elapsed:  6.1min\n",
      "[Parallel(n_jobs=-1)]: Done 72212 tasks      | elapsed:  7.1min\n",
      "[Parallel(n_jobs=-1)]: Done 82252 tasks      | elapsed:  8.0min\n",
      "[Parallel(n_jobs=-1)]: Done 92948 tasks      | elapsed:  8.8min\n",
      "[Parallel(n_jobs=-1)]: Done 104284 tasks      | elapsed: 10.0min\n",
      "[Parallel(n_jobs=-1)]: Done 116276 tasks      | elapsed: 11.0min\n",
      "[Parallel(n_jobs=-1)]: Done 128908 tasks      | elapsed: 12.2min\n",
      "[Parallel(n_jobs=-1)]: Done 142196 tasks      | elapsed: 13.4min\n",
      "[Parallel(n_jobs=-1)]: Done 156124 tasks      | elapsed: 14.6min\n",
      "[Parallel(n_jobs=-1)]: Done 170708 tasks      | elapsed: 16.0min\n",
      "[Parallel(n_jobs=-1)]: Done 185932 tasks      | elapsed: 17.3min\n",
      "[Parallel(n_jobs=-1)]: Done 201812 tasks      | elapsed: 18.9min\n",
      "[Parallel(n_jobs=-1)]: Done 218332 tasks      | elapsed: 20.3min\n",
      "[Parallel(n_jobs=-1)]: Done 235508 tasks      | elapsed: 22.0min\n",
      "[Parallel(n_jobs=-1)]: Done 253324 tasks      | elapsed: 23.6min\n",
      "[Parallel(n_jobs=-1)]: Done 271604 tasks      | elapsed: 30.2min\n",
      "[Parallel(n_jobs=-1)]: Done 290716 tasks      | elapsed: 32.3min\n",
      "[Parallel(n_jobs=-1)]: Done 310484 tasks      | elapsed: 34.2min\n",
      "[Parallel(n_jobs=-1)]: Done 330892 tasks      | elapsed: 36.4min\n",
      "[Parallel(n_jobs=-1)]: Done 351956 tasks      | elapsed: 38.6min\n",
      "[Parallel(n_jobs=-1)]: Done 373660 tasks      | elapsed: 40.8min\n",
      "[Parallel(n_jobs=-1)]: Done 396020 tasks      | elapsed: 43.1min\n",
      "[Parallel(n_jobs=-1)]: Done 419020 tasks      | elapsed: 45.5min\n",
      "[Parallel(n_jobs=-1)]: Done 442676 tasks      | elapsed: 47.7min\n",
      "[Parallel(n_jobs=-1)]: Done 466972 tasks      | elapsed: 49.9min\n",
      "[Parallel(n_jobs=-1)]: Done 491924 tasks      | elapsed: 52.2min\n",
      "[Parallel(n_jobs=-1)]: Done 517516 tasks      | elapsed: 54.6min\n",
      "[Parallel(n_jobs=-1)]: Done 543764 tasks      | elapsed: 57.0min\n",
      "[Parallel(n_jobs=-1)]: Done 570652 tasks      | elapsed: 59.5min\n",
      "[Parallel(n_jobs=-1)]: Done 598196 tasks      | elapsed: 62.2min\n",
      "[Parallel(n_jobs=-1)]: Done 626380 tasks      | elapsed: 64.8min\n",
      "[Parallel(n_jobs=-1)]: Done 655220 tasks      | elapsed: 67.3min\n",
      "[Parallel(n_jobs=-1)]: Done 684700 tasks      | elapsed: 70.0min\n",
      "[Parallel(n_jobs=-1)]: Done 714836 tasks      | elapsed: 72.7min\n",
      "[Parallel(n_jobs=-1)]: Done 745612 tasks      | elapsed: 75.5min\n",
      "[Parallel(n_jobs=-1)]: Done 777044 tasks      | elapsed: 78.3min\n",
      "[Parallel(n_jobs=-1)]: Done 809116 tasks      | elapsed: 81.4min\n",
      "[Parallel(n_jobs=-1)]: Done 841844 tasks      | elapsed: 84.5min\n",
      "[Parallel(n_jobs=-1)]: Done 875212 tasks      | elapsed: 87.7min\n",
      "[Parallel(n_jobs=-1)]: Done 909236 tasks      | elapsed: 91.3min\n",
      "[Parallel(n_jobs=-1)]: Done 943900 tasks      | elapsed: 94.7min\n",
      "[Parallel(n_jobs=-1)]: Done 979220 tasks      | elapsed: 98.6min\n",
      "[Parallel(n_jobs=-1)]: Done 1015180 tasks      | elapsed: 102.3min\n",
      "[Parallel(n_jobs=-1)]: Done 1051796 tasks      | elapsed: 105.6min\n",
      "[Parallel(n_jobs=-1)]: Done 1089052 tasks      | elapsed: 109.1min\n",
      "[Parallel(n_jobs=-1)]: Done 1126964 tasks      | elapsed: 112.6min\n",
      "[Parallel(n_jobs=-1)]: Done 1165516 tasks      | elapsed: 116.1min\n",
      "[Parallel(n_jobs=-1)]: Done 1204724 tasks      | elapsed: 119.6min\n",
      "[Parallel(n_jobs=-1)]: Done 1244572 tasks      | elapsed: 123.3min\n",
      "[Parallel(n_jobs=-1)]: Done 1285076 tasks      | elapsed: 127.1min\n",
      "[Parallel(n_jobs=-1)]: Done 1326220 tasks      | elapsed: 130.7min\n",
      "[Parallel(n_jobs=-1)]: Done 1368020 tasks      | elapsed: 134.9min\n",
      "[Parallel(n_jobs=-1)]: Done 1410460 tasks      | elapsed: 139.2min\n",
      "[Parallel(n_jobs=-1)]: Done 1453556 tasks      | elapsed: 143.4min\n",
      "[Parallel(n_jobs=-1)]: Done 1497292 tasks      | elapsed: 148.2min\n",
      "[Parallel(n_jobs=-1)]: Done 1541684 tasks      | elapsed: 152.8min\n",
      "[Parallel(n_jobs=-1)]: Done 1586716 tasks      | elapsed: 157.5min\n",
      "[Parallel(n_jobs=-1)]: Done 1632404 tasks      | elapsed: 162.2min\n",
      "[Parallel(n_jobs=-1)]: Done 1678732 tasks      | elapsed: 167.1min\n",
      "[Parallel(n_jobs=-1)]: Done 1725716 tasks      | elapsed: 172.1min\n",
      "[Parallel(n_jobs=-1)]: Done 1773340 tasks      | elapsed: 177.1min\n",
      "[Parallel(n_jobs=-1)]: Done 1821620 tasks      | elapsed: 182.1min\n",
      "[Parallel(n_jobs=-1)]: Done 1870540 tasks      | elapsed: 187.3min\n",
      "[Parallel(n_jobs=-1)]: Done 1920116 tasks      | elapsed: 192.3min\n",
      "[Parallel(n_jobs=-1)]: Done 1970332 tasks      | elapsed: 197.7min\n",
      "[Parallel(n_jobs=-1)]: Done 2021204 tasks      | elapsed: 203.1min\n",
      "[Parallel(n_jobs=-1)]: Done 2072716 tasks      | elapsed: 208.3min\n",
      "[Parallel(n_jobs=-1)]: Done 2124884 tasks      | elapsed: 213.8min\n",
      "[Parallel(n_jobs=-1)]: Done 2177692 tasks      | elapsed: 219.1min\n",
      "[Parallel(n_jobs=-1)]: Done 2231156 tasks      | elapsed: 223.9min\n",
      "[Parallel(n_jobs=-1)]: Done 2285260 tasks      | elapsed: 228.8min\n",
      "[Parallel(n_jobs=-1)]: Done 2340020 tasks      | elapsed: 233.9min\n",
      "[Parallel(n_jobs=-1)]: Done 2395420 tasks      | elapsed: 239.8min\n",
      "[Parallel(n_jobs=-1)]: Done 2451476 tasks      | elapsed: 245.5min\n",
      "[Parallel(n_jobs=-1)]: Done 2508172 tasks      | elapsed: 251.3min\n",
      "[Parallel(n_jobs=-1)]: Done 2565524 tasks      | elapsed: 257.2min\n",
      "[Parallel(n_jobs=-1)]: Done 2623516 tasks      | elapsed: 262.8min\n",
      "[Parallel(n_jobs=-1)]: Done 2682164 tasks      | elapsed: 268.5min\n",
      "[Parallel(n_jobs=-1)]: Done 2724480 out of 2724480 | elapsed: 272.2min finished\n"
     ]
    },
    {
     "data": {
      "text/plain": [
       "GridSearchCV(cv=8,\n",
       "             estimator=Pipeline(steps=[('pca', PCA()),\n",
       "                                       ('dtree',\n",
       "                                        DecisionTreeClassifier(random_state=11111992))]),\n",
       "             n_jobs=-1,\n",
       "             param_grid={'dtree__class_weight': [{0: 1, 1: 4.75}, {0: 1, 1: 4},\n",
       "                                                 {0: 1, 1: 5},\n",
       "                                                 {0: 1.2, 1: 4.5}],\n",
       "                         'dtree__criterion': ['gini', 'entropy'],\n",
       "                         'dtree__max_depth': array([ 4. ,  5.1,  6.2,  7.3,  8.4,  9.5, 10.6, 11.7, 12.8, 13.9, 15. ]),\n",
       "                         'dtree__max_features': [1, 2, 3, 4, 5, 6, 7, 8, 9, 10,\n",
       "                                                 11, 12, 13, 14, 15, 16, 17, 18,\n",
       "                                                 19, 20, 21, 22, 23, 24, 25, 26,\n",
       "                                                 27, 28, 29, 30, ...],\n",
       "                         'dtree__min_samples_leaf': [100, 150, 200],\n",
       "                         'dtree__min_samples_split': [200, 300, 400],\n",
       "                         'dtree__splitter': ['best', 'random'],\n",
       "                         'pca__n_components': [10, 13, 15, 17, 20]},\n",
       "             scoring='recall', verbose=2)"
      ]
     },
     "execution_count": 4,
     "metadata": {},
     "output_type": "execute_result"
    }
   ],
   "source": [
    "X_train, X_test, y_train, y_test = train_test_split(X,y,stratify=y,random_state=11111992)\n",
    "\n",
    "params = {\n",
    "    'pca__n_components': [10,13,15,17,20],\n",
    "    'dtree__criterion': ['gini', 'entropy'],\n",
    "    'dtree__splitter' : ['best', 'random'],\n",
    "    'dtree__max_features' : list(range(1,X_train.shape[1])),\n",
    "    'dtree__class_weight': [\n",
    "        {0: 1, 1: 4.75},\n",
    "        {0: 1, 1: 4},\n",
    "        {0: 1, 1: 5},\n",
    "        {0: 1.2, 1: 4.5},\n",
    "    ],\n",
    "    'dtree__max_depth' : np.linspace(4, 15, 11),\n",
    "    'dtree__min_samples_split' : [200,300,400],\n",
    "    'dtree__min_samples_leaf' : [100,150,200],\n",
    "}\n",
    "\n",
    "model_pipeline = Pipeline([\n",
    "    ('pca', PCA()),\n",
    "    ('dtree', DecisionTreeClassifier(random_state=11111992))\n",
    "])\n",
    "\n",
    "grid = GridSearchCV(model_pipeline, params,\n",
    "                    cv=8, scoring='recall', n_jobs=-1, verbose=2)\n",
    "\n",
    "grid.fit(X_train, y_train)"
   ]
  },
  {
   "cell_type": "code",
   "execution_count": 5,
   "metadata": {},
   "outputs": [
    {
     "data": {
      "text/plain": [
       "Pipeline(steps=[('pca', PCA(n_components=10)),\n",
       "                ('dtree',\n",
       "                 DecisionTreeClassifier(class_weight={0: 1, 1: 5},\n",
       "                                        max_depth=4.0, max_features=1,\n",
       "                                        min_samples_leaf=200,\n",
       "                                        min_samples_split=200,\n",
       "                                        random_state=11111992,\n",
       "                                        splitter='random'))])"
      ]
     },
     "execution_count": 5,
     "metadata": {},
     "output_type": "execute_result"
    }
   ],
   "source": [
    "grid.best_estimator_"
   ]
  },
  {
   "cell_type": "code",
   "execution_count": 6,
   "metadata": {},
   "outputs": [
    {
     "data": {
      "text/plain": [
       "{'dtree__class_weight': {0: 1, 1: 5},\n",
       " 'dtree__criterion': 'gini',\n",
       " 'dtree__max_depth': 4.0,\n",
       " 'dtree__max_features': 1,\n",
       " 'dtree__min_samples_leaf': 200,\n",
       " 'dtree__min_samples_split': 200,\n",
       " 'dtree__splitter': 'random',\n",
       " 'pca__n_components': 10}"
      ]
     },
     "execution_count": 6,
     "metadata": {},
     "output_type": "execute_result"
    }
   ],
   "source": [
    "grid.best_params_"
   ]
  },
  {
   "cell_type": "code",
   "execution_count": 7,
   "metadata": {},
   "outputs": [
    {
     "data": {
      "text/plain": [
       "1.0"
      ]
     },
     "execution_count": 7,
     "metadata": {},
     "output_type": "execute_result"
    }
   ],
   "source": [
    "grid.best_score_"
   ]
  },
  {
   "cell_type": "code",
   "execution_count": 8,
   "metadata": {},
   "outputs": [
    {
     "name": "stdout",
     "output_type": "stream",
     "text": [
      "              precision    recall  f1-score   support\n",
      "\n",
      "           0       0.00      0.00      0.00       639\n",
      "           1       0.17      1.00      0.29       132\n",
      "\n",
      "    accuracy                           0.17       771\n",
      "   macro avg       0.09      0.50      0.15       771\n",
      "weighted avg       0.03      0.17      0.05       771\n",
      "\n",
      "              precision    recall  f1-score   support\n",
      "\n",
      "           0       0.00      0.00      0.00       214\n",
      "           1       0.17      1.00      0.29        44\n",
      "\n",
      "    accuracy                           0.17       258\n",
      "   macro avg       0.09      0.50      0.15       258\n",
      "weighted avg       0.03      0.17      0.05       258\n",
      "\n"
     ]
    }
   ],
   "source": [
    "y_pred = grid.predict(X_train)\n",
    "print(classification_report(y_train, y_pred))\n",
    "y_pred = grid.predict(X_test)\n",
    "print(classification_report(y_test, y_pred))"
   ]
  },
  {
   "cell_type": "markdown",
   "metadata": {},
   "source": [
    "**Temuan**: Dengan cv=8, recall pada train dan juga test menjadi 100% dan specificity 0%.\n",
    "\n",
    "Hal seperti ini artinya adalah model akan memprediksi bahwa semua pegawai akan keluar. (lihat pada confusion matrix di bawah.)"
   ]
  },
  {
   "cell_type": "code",
   "execution_count": 9,
   "metadata": {},
   "outputs": [
    {
     "data": {
      "text/plain": [
       "1.0"
      ]
     },
     "execution_count": 9,
     "metadata": {},
     "output_type": "execute_result"
    }
   ],
   "source": [
    "grid.score(X_test, y_test)"
   ]
  },
  {
   "cell_type": "code",
   "execution_count": 10,
   "metadata": {},
   "outputs": [
    {
     "data": {
      "text/plain": [
       "170345"
      ]
     },
     "execution_count": 10,
     "metadata": {},
     "output_type": "execute_result"
    }
   ],
   "source": [
    "grid.best_index_"
   ]
  },
  {
   "cell_type": "code",
   "execution_count": 11,
   "metadata": {},
   "outputs": [
    {
     "data": {
      "text/plain": [
       "mean_fit_time                                                             0.0158259\n",
       "std_fit_time                                                             0.00120099\n",
       "mean_score_time                                                          0.00812119\n",
       "std_score_time                                                           0.00276688\n",
       "param_dtree__class_weight                                              {0: 1, 1: 5}\n",
       "param_dtree__criterion                                                         gini\n",
       "param_dtree__max_depth                                                            4\n",
       "param_dtree__max_features                                                         1\n",
       "param_dtree__min_samples_leaf                                                   200\n",
       "param_dtree__min_samples_split                                                  200\n",
       "param_dtree__splitter                                                        random\n",
       "param_pca__n_components                                                          10\n",
       "params                            {'dtree__class_weight': {0: 1, 1: 5}, 'dtree__...\n",
       "split0_test_score                                                                 1\n",
       "split1_test_score                                                                 1\n",
       "split2_test_score                                                                 1\n",
       "split3_test_score                                                                 1\n",
       "split4_test_score                                                                 1\n",
       "split5_test_score                                                                 1\n",
       "split6_test_score                                                                 1\n",
       "split7_test_score                                                                 1\n",
       "mean_test_score                                                                   1\n",
       "std_test_score                                                                    0\n",
       "rank_test_score                                                                   1\n",
       "Name: 170345, dtype: object"
      ]
     },
     "execution_count": 11,
     "metadata": {},
     "output_type": "execute_result"
    }
   ],
   "source": [
    "pd.DataFrame(grid.cv_results_).loc[grid.best_index_]"
   ]
  },
  {
   "cell_type": "code",
   "execution_count": 12,
   "metadata": {},
   "outputs": [
    {
     "data": {
      "text/plain": [
       "make_scorer(recall_score, average=binary)"
      ]
     },
     "execution_count": 12,
     "metadata": {},
     "output_type": "execute_result"
    }
   ],
   "source": [
    "grid.scorer_"
   ]
  },
  {
   "cell_type": "code",
   "execution_count": 13,
   "metadata": {},
   "outputs": [
    {
     "data": {
      "text/plain": [
       "8"
      ]
     },
     "execution_count": 13,
     "metadata": {},
     "output_type": "execute_result"
    }
   ],
   "source": [
    "grid.n_splits_"
   ]
  },
  {
   "cell_type": "code",
   "execution_count": 14,
   "metadata": {},
   "outputs": [
    {
     "data": {
      "text/plain": [
       "0.035249948501586914"
      ]
     },
     "execution_count": 14,
     "metadata": {},
     "output_type": "execute_result"
    }
   ],
   "source": [
    "grid.refit_time_"
   ]
  },
  {
   "cell_type": "code",
   "execution_count": 15,
   "metadata": {},
   "outputs": [
    {
     "data": {
      "text/html": [
       "<div>\n",
       "<style scoped>\n",
       "    .dataframe tbody tr th:only-of-type {\n",
       "        vertical-align: middle;\n",
       "    }\n",
       "\n",
       "    .dataframe tbody tr th {\n",
       "        vertical-align: top;\n",
       "    }\n",
       "\n",
       "    .dataframe thead th {\n",
       "        text-align: right;\n",
       "    }\n",
       "</style>\n",
       "<table border=\"1\" class=\"dataframe\">\n",
       "  <thead>\n",
       "    <tr style=\"text-align: right;\">\n",
       "      <th></th>\n",
       "      <th>Pred 1</th>\n",
       "      <th>Pred 0</th>\n",
       "    </tr>\n",
       "  </thead>\n",
       "  <tbody>\n",
       "    <tr>\n",
       "      <th>Act1</th>\n",
       "      <td>132</td>\n",
       "      <td>0</td>\n",
       "    </tr>\n",
       "    <tr>\n",
       "      <th>Act 0</th>\n",
       "      <td>639</td>\n",
       "      <td>0</td>\n",
       "    </tr>\n",
       "  </tbody>\n",
       "</table>\n",
       "</div>"
      ],
      "text/plain": [
       "       Pred 1  Pred 0\n",
       "Act1      132       0\n",
       "Act 0     639       0"
      ]
     },
     "execution_count": 15,
     "metadata": {},
     "output_type": "execute_result"
    }
   ],
   "source": [
    "y_pred = grid.predict(X_train)\n",
    "cmx(y_train,y_pred)"
   ]
  },
  {
   "cell_type": "code",
   "execution_count": 16,
   "metadata": {},
   "outputs": [
    {
     "data": {
      "text/html": [
       "<div>\n",
       "<style scoped>\n",
       "    .dataframe tbody tr th:only-of-type {\n",
       "        vertical-align: middle;\n",
       "    }\n",
       "\n",
       "    .dataframe tbody tr th {\n",
       "        vertical-align: top;\n",
       "    }\n",
       "\n",
       "    .dataframe thead th {\n",
       "        text-align: right;\n",
       "    }\n",
       "</style>\n",
       "<table border=\"1\" class=\"dataframe\">\n",
       "  <thead>\n",
       "    <tr style=\"text-align: right;\">\n",
       "      <th></th>\n",
       "      <th>Pred 1</th>\n",
       "      <th>Pred 0</th>\n",
       "    </tr>\n",
       "  </thead>\n",
       "  <tbody>\n",
       "    <tr>\n",
       "      <th>Act1</th>\n",
       "      <td>44</td>\n",
       "      <td>0</td>\n",
       "    </tr>\n",
       "    <tr>\n",
       "      <th>Act 0</th>\n",
       "      <td>214</td>\n",
       "      <td>0</td>\n",
       "    </tr>\n",
       "  </tbody>\n",
       "</table>\n",
       "</div>"
      ],
      "text/plain": [
       "       Pred 1  Pred 0\n",
       "Act1       44       0\n",
       "Act 0     214       0"
      ]
     },
     "execution_count": 16,
     "metadata": {},
     "output_type": "execute_result"
    }
   ],
   "source": [
    "y_pred = grid.predict(X_test)\n",
    "cmx(y_test, y_pred)"
   ]
  },
  {
   "cell_type": "markdown",
   "metadata": {},
   "source": [
    "# Post-Pruning (GridSearchCV)"
   ]
  },
  {
   "cell_type": "code",
   "execution_count": 325,
   "metadata": {},
   "outputs": [],
   "source": [
    "import pandas as pd\n",
    "import matplotlib.pyplot as plt \n",
    "from sklearn.model_selection import train_test_split\n",
    "\n",
    "from func import outlier_counter, get_all_univariate_outlier_index, cmx\n",
    "from modelling_purpose import Xy, algorithm_report_accumulation\n",
    "from sklearn.metrics import classification_report, confusion_matrix\n",
    "from sklearn.tree import DecisionTreeClassifier\n",
    "from sklearn.pipeline import Pipeline\n",
    "from sklearn.decomposition import PCA\n",
    "from sklearn.model_selection import GridSearchCV\n",
    "import numpy as np\n",
    "\n",
    "import warnings\n",
    "warnings.filterwarnings('ignore')"
   ]
  },
  {
   "cell_type": "code",
   "execution_count": 326,
   "metadata": {},
   "outputs": [
    {
     "data": {
      "text/plain": [
       "(1029, 31)"
      ]
     },
     "execution_count": 326,
     "metadata": {},
     "output_type": "execute_result"
    }
   ],
   "source": [
    "df = pd.read_csv('csv/imputed.csv')\n",
    "df.shape"
   ]
  },
  {
   "cell_type": "code",
   "execution_count": 327,
   "metadata": {},
   "outputs": [],
   "source": [
    "X = df.drop('Attrition',axis=1)\n",
    "y = df['Attrition'].map({'Yes':1,'No':0})\n",
    "\n",
    "categorical_features = X.select_dtypes(include='O').columns.tolist()\n",
    "X = pd.get_dummies(X, columns=categorical_features, drop_first=True)"
   ]
  },
  {
   "cell_type": "code",
   "execution_count": 328,
   "metadata": {},
   "outputs": [],
   "source": [
    "X_train, X_test, y_train, y_test = train_test_split(X,y,stratify=y,random_state=11111992)"
   ]
  },
  {
   "cell_type": "code",
   "execution_count": 329,
   "metadata": {},
   "outputs": [],
   "source": [
    "params = {'dtree__ccp_alpha': np.linspace(0,1,1000)}\n",
    "\n",
    "model_pipeline = Pipeline(steps=[\n",
    "    ('pca', PCA(n_components=10)),\n",
    "    ('dtree', DecisionTreeClassifier(class_weight={0: 1, 1: 5},\n",
    "                                     max_depth=4.0, max_features=1,\n",
    "                                     min_samples_leaf=200,\n",
    "                                     min_samples_split=200,\n",
    "                                     random_state=11111992,\n",
    "                                     splitter='random'))\n",
    "])\n",
    "\n",
    "grid = GridSearchCV(model_pipeline, params,\n",
    "                    cv=8, scoring='recall', n_jobs=-1, verbose=2)"
   ]
  },
  {
   "cell_type": "code",
   "execution_count": 330,
   "metadata": {},
   "outputs": [
    {
     "name": "stdout",
     "output_type": "stream",
     "text": [
      "Fitting 8 folds for each of 1000 candidates, totalling 8000 fits\n"
     ]
    },
    {
     "name": "stderr",
     "output_type": "stream",
     "text": [
      "[Parallel(n_jobs=-1)]: Using backend LokyBackend with 4 concurrent workers.\n",
      "[Parallel(n_jobs=-1)]: Done 128 tasks      | elapsed:    1.0s\n",
      "[Parallel(n_jobs=-1)]: Done 1096 tasks      | elapsed:    7.0s\n",
      "[Parallel(n_jobs=-1)]: Done 2720 tasks      | elapsed:   16.7s\n",
      "[Parallel(n_jobs=-1)]: Done 4984 tasks      | elapsed:   30.0s\n",
      "[Parallel(n_jobs=-1)]: Done 7904 tasks      | elapsed:   47.5s\n",
      "[Parallel(n_jobs=-1)]: Done 8000 out of 8000 | elapsed:   48.0s finished\n"
     ]
    },
    {
     "data": {
      "text/plain": [
       "GridSearchCV(cv=8,\n",
       "             estimator=Pipeline(steps=[('pca', PCA(n_components=10)),\n",
       "                                       ('dtree',\n",
       "                                        DecisionTreeClassifier(class_weight={0: 1,\n",
       "                                                                             1: 5},\n",
       "                                                               max_depth=4.0,\n",
       "                                                               max_features=1,\n",
       "                                                               min_samples_leaf=200,\n",
       "                                                               min_samples_split=200,\n",
       "                                                               random_state=11111992,\n",
       "                                                               splitter='random'))]),\n",
       "             n_jobs=-1,\n",
       "             param_grid={'dtree__ccp_alpha': array([0.        , 0.001001  , 0.002002  , 0.003003  , 0.004004  ,\n",
       "       0.00500501, 0.006006...\n",
       "       0.96596597, 0.96696697, 0.96796797, 0.96896897, 0.96996997,\n",
       "       0.97097097, 0.97197197, 0.97297297, 0.97397397, 0.97497497,\n",
       "       0.97597598, 0.97697698, 0.97797798, 0.97897898, 0.97997998,\n",
       "       0.98098098, 0.98198198, 0.98298298, 0.98398398, 0.98498498,\n",
       "       0.98598599, 0.98698699, 0.98798799, 0.98898899, 0.98998999,\n",
       "       0.99099099, 0.99199199, 0.99299299, 0.99399399, 0.99499499,\n",
       "       0.995996  , 0.996997  , 0.997998  , 0.998999  , 1.        ])},\n",
       "             scoring='recall', verbose=2)"
      ]
     },
     "execution_count": 330,
     "metadata": {},
     "output_type": "execute_result"
    }
   ],
   "source": [
    "grid.fit(X_train, y_train)"
   ]
  },
  {
   "cell_type": "code",
   "execution_count": 331,
   "metadata": {},
   "outputs": [
    {
     "data": {
      "text/plain": [
       "{'dtree__ccp_alpha': 0.0}"
      ]
     },
     "execution_count": 331,
     "metadata": {},
     "output_type": "execute_result"
    }
   ],
   "source": [
    "grid.best_params_"
   ]
  },
  {
   "cell_type": "code",
   "execution_count": 332,
   "metadata": {},
   "outputs": [
    {
     "name": "stdout",
     "output_type": "stream",
     "text": [
      "              precision    recall  f1-score   support\n",
      "\n",
      "           0       0.00      0.00      0.00       639\n",
      "           1       0.17      1.00      0.29       132\n",
      "\n",
      "    accuracy                           0.17       771\n",
      "   macro avg       0.09      0.50      0.15       771\n",
      "weighted avg       0.03      0.17      0.05       771\n",
      "\n",
      "              precision    recall  f1-score   support\n",
      "\n",
      "           0       0.00      0.00      0.00       214\n",
      "           1       0.17      1.00      0.29        44\n",
      "\n",
      "    accuracy                           0.17       258\n",
      "   macro avg       0.09      0.50      0.15       258\n",
      "weighted avg       0.03      0.17      0.05       258\n",
      "\n"
     ]
    }
   ],
   "source": [
    "y_pred = grid.predict(X_train)\n",
    "print(classification_report(y_train, y_pred))\n",
    "y_pred = grid.predict(X_test)\n",
    "print(classification_report(y_test, y_pred))"
   ]
  },
  {
   "cell_type": "markdown",
   "metadata": {},
   "source": [
    "**Temuan** : Post-Pruning dengan GridSearchCV menggunakan parameter ccp_alpha tidak mengubah apapun karena best_parameter_ yang digunakan adalah 0.0"
   ]
  },
  {
   "cell_type": "markdown",
   "metadata": {},
   "source": [
    "# Manual Post-Pruning"
   ]
  },
  {
   "cell_type": "code",
   "execution_count": 16,
   "metadata": {},
   "outputs": [],
   "source": [
    "import pandas as pd\n",
    "import matplotlib.pyplot as plt \n",
    "from sklearn.model_selection import train_test_split\n",
    "\n",
    "from func import outlier_counter, get_all_univariate_outlier_index, cmx\n",
    "from modelling_purpose import Xy, algorithm_report_accumulation\n",
    "from sklearn.metrics import classification_report, confusion_matrix\n",
    "from sklearn.tree import DecisionTreeClassifier\n",
    "from sklearn.pipeline import Pipeline\n",
    "from sklearn.decomposition import PCA\n",
    "from sklearn.model_selection import GridSearchCV\n",
    "import numpy as np\n",
    "\n",
    "import warnings\n",
    "warnings.filterwarnings('ignore')"
   ]
  },
  {
   "cell_type": "code",
   "execution_count": 17,
   "metadata": {},
   "outputs": [
    {
     "data": {
      "text/plain": [
       "(1029, 31)"
      ]
     },
     "execution_count": 17,
     "metadata": {},
     "output_type": "execute_result"
    }
   ],
   "source": [
    "df = pd.read_csv('csv/imputed.csv')\n",
    "df.shape"
   ]
  },
  {
   "cell_type": "code",
   "execution_count": 18,
   "metadata": {},
   "outputs": [],
   "source": [
    "X = df.drop('Attrition',axis=1)\n",
    "y = df['Attrition'].map({'Yes':1,'No':0})\n",
    "\n",
    "categorical_features = X.select_dtypes(include='O').columns.tolist()\n",
    "X = pd.get_dummies(X, columns=categorical_features, drop_first=True)"
   ]
  },
  {
   "cell_type": "code",
   "execution_count": 19,
   "metadata": {},
   "outputs": [],
   "source": [
    "X_train, X_test, y_train, y_test = train_test_split(X,y,stratify=y,random_state=11111992)"
   ]
  },
  {
   "cell_type": "code",
   "execution_count": 20,
   "metadata": {},
   "outputs": [],
   "source": [
    "pipeline = Pipeline(steps=[\n",
    "    ('pca', PCA(n_components=10)),\n",
    "    ('dtree', DecisionTreeClassifier(class_weight={0: 1, 1: 5},\n",
    "                                     max_depth=4.0, max_features=1,\n",
    "                                     min_samples_leaf=163,\n",
    "                                     min_samples_split=163,\n",
    "                                     random_state=11111992,\n",
    "                                     splitter='random'))\n",
    "])"
   ]
  },
  {
   "cell_type": "code",
   "execution_count": 21,
   "metadata": {},
   "outputs": [
    {
     "data": {
      "text/plain": [
       "Pipeline(steps=[('pca', PCA(n_components=10)),\n",
       "                ('dtree',\n",
       "                 DecisionTreeClassifier(class_weight={0: 1, 1: 5},\n",
       "                                        max_depth=4.0, max_features=1,\n",
       "                                        min_samples_leaf=163,\n",
       "                                        min_samples_split=163,\n",
       "                                        random_state=11111992,\n",
       "                                        splitter='random'))])"
      ]
     },
     "execution_count": 21,
     "metadata": {},
     "output_type": "execute_result"
    }
   ],
   "source": [
    "pipeline.fit(X_train, y_train)"
   ]
  },
  {
   "cell_type": "code",
   "execution_count": 22,
   "metadata": {},
   "outputs": [
    {
     "name": "stdout",
     "output_type": "stream",
     "text": [
      "              precision    recall  f1-score   support\n",
      "\n",
      "           0       0.89      0.23      0.37       639\n",
      "           1       0.19      0.86      0.31       132\n",
      "\n",
      "    accuracy                           0.34       771\n",
      "   macro avg       0.54      0.54      0.34       771\n",
      "weighted avg       0.77      0.34      0.36       771\n",
      "\n",
      "              precision    recall  f1-score   support\n",
      "\n",
      "           0       0.97      0.28      0.43       214\n",
      "           1       0.21      0.95      0.35        44\n",
      "\n",
      "    accuracy                           0.39       258\n",
      "   macro avg       0.59      0.62      0.39       258\n",
      "weighted avg       0.84      0.39      0.42       258\n",
      "\n"
     ]
    }
   ],
   "source": [
    "y_pred = pipeline.predict(X_train)\n",
    "print(classification_report(y_train, y_pred))\n",
    "y_pred = pipeline.predict(X_test)\n",
    "print(classification_report(y_test, y_pred))"
   ]
  },
  {
   "cell_type": "code",
   "execution_count": null,
   "metadata": {},
   "outputs": [],
   "source": []
  }
 ],
 "metadata": {
  "kernelspec": {
   "display_name": "Python 3",
   "language": "python",
   "name": "python3"
  },
  "language_info": {
   "codemirror_mode": {
    "name": "ipython",
    "version": 3
   },
   "file_extension": ".py",
   "mimetype": "text/x-python",
   "name": "python",
   "nbconvert_exporter": "python",
   "pygments_lexer": "ipython3",
   "version": "3.8.3"
  }
 },
 "nbformat": 4,
 "nbformat_minor": 4
}
